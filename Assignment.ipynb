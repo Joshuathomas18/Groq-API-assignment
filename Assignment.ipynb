{
  "nbformat": 4,
  "nbformat_minor": 0,
  "metadata": {
    "colab": {
      "provenance": []
    },
    "kernelspec": {
      "name": "python3",
      "display_name": "Python 3"
    },
    "language_info": {
      "name": "python"
    }
  },
  "cells": [
    {
      "cell_type": "code",
      "execution_count": 1,
      "metadata": {
        "colab": {
          "base_uri": "https://localhost:8080/"
        },
        "id": "QnEQ2pP1vqv9",
        "outputId": "79fefd22-0ecd-4081-b496-e778cee38314"
      },
      "outputs": [
        {
          "output_type": "stream",
          "name": "stdout",
          "text": [
            "Found existing installation: openai 1.106.1\n",
            "Uninstalling openai-1.106.1:\n",
            "  Successfully uninstalled openai-1.106.1\n",
            "Collecting openai==0.28.1\n",
            "  Downloading openai-0.28.1-py3-none-any.whl.metadata (11 kB)\n",
            "Requirement already satisfied: requests>=2.20 in /usr/local/lib/python3.12/dist-packages (from openai==0.28.1) (2.32.4)\n",
            "Requirement already satisfied: tqdm in /usr/local/lib/python3.12/dist-packages (from openai==0.28.1) (4.67.1)\n",
            "Requirement already satisfied: aiohttp in /usr/local/lib/python3.12/dist-packages (from openai==0.28.1) (3.12.15)\n",
            "Requirement already satisfied: charset_normalizer<4,>=2 in /usr/local/lib/python3.12/dist-packages (from requests>=2.20->openai==0.28.1) (3.4.3)\n",
            "Requirement already satisfied: idna<4,>=2.5 in /usr/local/lib/python3.12/dist-packages (from requests>=2.20->openai==0.28.1) (3.10)\n",
            "Requirement already satisfied: urllib3<3,>=1.21.1 in /usr/local/lib/python3.12/dist-packages (from requests>=2.20->openai==0.28.1) (2.5.0)\n",
            "Requirement already satisfied: certifi>=2017.4.17 in /usr/local/lib/python3.12/dist-packages (from requests>=2.20->openai==0.28.1) (2025.8.3)\n",
            "Requirement already satisfied: aiohappyeyeballs>=2.5.0 in /usr/local/lib/python3.12/dist-packages (from aiohttp->openai==0.28.1) (2.6.1)\n",
            "Requirement already satisfied: aiosignal>=1.4.0 in /usr/local/lib/python3.12/dist-packages (from aiohttp->openai==0.28.1) (1.4.0)\n",
            "Requirement already satisfied: attrs>=17.3.0 in /usr/local/lib/python3.12/dist-packages (from aiohttp->openai==0.28.1) (25.3.0)\n",
            "Requirement already satisfied: frozenlist>=1.1.1 in /usr/local/lib/python3.12/dist-packages (from aiohttp->openai==0.28.1) (1.7.0)\n",
            "Requirement already satisfied: multidict<7.0,>=4.5 in /usr/local/lib/python3.12/dist-packages (from aiohttp->openai==0.28.1) (6.6.4)\n",
            "Requirement already satisfied: propcache>=0.2.0 in /usr/local/lib/python3.12/dist-packages (from aiohttp->openai==0.28.1) (0.3.2)\n",
            "Requirement already satisfied: yarl<2.0,>=1.17.0 in /usr/local/lib/python3.12/dist-packages (from aiohttp->openai==0.28.1) (1.20.1)\n",
            "Requirement already satisfied: typing-extensions>=4.2 in /usr/local/lib/python3.12/dist-packages (from aiosignal>=1.4.0->aiohttp->openai==0.28.1) (4.15.0)\n",
            "Downloading openai-0.28.1-py3-none-any.whl (76 kB)\n",
            "\u001b[2K   \u001b[90m━━━━━━━━━━━━━━━━━━━━━━━━━━━━━━━━━━━━━━━━\u001b[0m \u001b[32m77.0/77.0 kB\u001b[0m \u001b[31m2.1 MB/s\u001b[0m eta \u001b[36m0:00:00\u001b[0m\n",
            "\u001b[?25hInstalling collected packages: openai\n",
            "Successfully installed openai-0.28.1\n",
            "OpenAI version: 0.28.1\n",
            "✅ Correct version installed!\n"
          ]
        }
      ],
      "source": [
        "# Install required packages (force uninstall first to avoid conflicts)\n",
        "%pip uninstall openai -y\n",
        "%pip install openai==0.28.1\n",
        "\n",
        "# Verify installation\n",
        "import openai\n",
        "print(f\"OpenAI version: {openai.__version__}\")\n",
        "print(\"✅ Correct version installed!\")"
      ]
    },
    {
      "cell_type": "code",
      "source": [
        "# Import required libraries\n",
        "import openai\n",
        "import json\n",
        "import os\n",
        "from datetime import datetime\n",
        "from typing import List, Dict, Any, Optional"
      ],
      "metadata": {
        "id": "ewcA5jKDv0zH"
      },
      "execution_count": 3,
      "outputs": []
    },
    {
      "cell_type": "code",
      "source": [
        "# Groq API Configuration\n",
        "# Groq API key configured\n",
        "\n",
        "\n",
        "# Configure OpenAI client for Groq (compatible with openai==0.28.1)\n",
        "openai.api_key = GROQ_API_KEY\n",
        "openai.api_base = \"https://api.groq.com/openai/v1\""
      ],
      "metadata": {
        "id": "KwZ_6twvv3wX"
      },
      "execution_count": 13,
      "outputs": []
    },
    {
      "cell_type": "code",
      "source": [
        "class ConversationManager:\n",
        "    \"\"\"\n",
        "    Manages conversation history with summarization and truncation capabilities.\n",
        "    \"\"\"\n",
        "\n",
        "    def __init__(self, max_messages: int = 10, max_chars: int = 1000, summarize_every: int = 3):\n",
        "        self.history: List[Dict[str, str]] = []\n",
        "        self.max_messages = max_messages\n",
        "        self.max_chars = max_chars\n",
        "        self.summarize_every = summarize_every\n",
        "        self.message_count = 0\n",
        "        self.summary_count = 0\n",
        "\n",
        "    def add_message(self, role: str, content: str) -> None:\n",
        "        \"\"\"Add a message to conversation history.\"\"\"\n",
        "        self.history.append({\n",
        "            \"role\": role,\n",
        "            \"content\": content,\n",
        "            \"timestamp\": datetime.now().isoformat()\n",
        "        })\n",
        "        self.message_count += 1\n",
        "\n",
        "        print(f\" Added {role} message: {content[:50]}...\")\n",
        "        print(f\" Total messages: {self.message_count}\")\n",
        "\n",
        "    def should_summarize(self) -> bool:\n",
        "        \"\"\"Check if conversation should be summarized.\"\"\"\n",
        "        return self.message_count > 0 and self.message_count % (self.summarize_every * 2) == 0\n",
        "\n",
        "    def summarize_conversation(self) -> str:\n",
        "        \"\"\"Summarize the conversation using Groq API.\"\"\"\n",
        "        if not self.history:\n",
        "            return \"No conversation to summarize.\"\n",
        "\n",
        "        # Format conversation for summarization\n",
        "        conversation_text = \"\\n\".join([\n",
        "            f\"{msg['role']}: {msg['content']}\" for msg in self.history\n",
        "        ])\n",
        "\n",
        "        prompt = f\"\"\"\n",
        "Summarize the following conversation while preserving key information:\n",
        "\n",
        "Conversation:\n",
        "{conversation_text}\n",
        "\n",
        "Provide a concise summary that captures:\n",
        "- Main topics discussed\n",
        "- Key decisions made\n",
        "- Important details mentioned\n",
        "\n",
        "Summary:\n",
        "\"\"\"\n",
        "\n",
        "        try:\n",
        "            response = openai.ChatCompletion.create(\n",
        "                model=\"llama-3.1-8b-instant\",\n",
        "                messages=[{\"role\": \"user\", \"content\": prompt}],\n",
        "                max_tokens=200,\n",
        "                temperature=0.3\n",
        "            )\n",
        "\n",
        "            summary = response.choices[0].message.content\n",
        "            self.summary_count += 1\n",
        "\n",
        "            # Replace history with summary\n",
        "            self.history = [{\n",
        "                \"role\": \"assistant\",\n",
        "                \"content\": f\"[SUMMARY #{self.summary_count}] {summary}\",\n",
        "                \"timestamp\": datetime.now().isoformat()\n",
        "            }]\n",
        "            self.message_count = 1\n",
        "\n",
        "            print(f\" Conversation summarized! Summary #{self.summary_count}\")\n",
        "            return summary\n",
        "\n",
        "        except Exception as e:\n",
        "            print(f\" Summarization failed: {e}\")\n",
        "            return \"Summarization failed.\"\n",
        "\n",
        "    def truncate_by_messages(self, keep_last: Optional[int] = None) -> None:\n",
        "        \"\"\"Keep only the last N messages.\"\"\"\n",
        "        if keep_last is None:\n",
        "            keep_last = self.max_messages\n",
        "\n",
        "        if len(self.history) > keep_last:\n",
        "            removed_count = len(self.history) - keep_last\n",
        "            self.history = self.history[-keep_last:]\n",
        "            self.message_count = len(self.history)\n",
        "            print(f\" Truncated {removed_count} messages. Kept last {keep_last} messages.\")\n",
        "        else:\n",
        "            print(f\" No truncation needed. Current messages: {len(self.history)}\")\n",
        "\n",
        "    def truncate_by_chars(self, max_chars: Optional[int] = None) -> None:\n",
        "        \"\"\"Keep messages within character limit.\"\"\"\n",
        "        if max_chars is None:\n",
        "            max_chars = self.max_chars\n",
        "\n",
        "        current_chars = sum(len(msg['content']) for msg in self.history)\n",
        "\n",
        "        if current_chars > max_chars:\n",
        "            # Remove oldest messages until under limit\n",
        "            while current_chars > max_chars and len(self.history) > 1:\n",
        "                removed_msg = self.history.pop(0)\n",
        "                current_chars -= len(removed_msg['content'])\n",
        "\n",
        "            self.message_count = len(self.history)\n",
        "            print(f\" Truncated by character limit. Current chars: {current_chars}/{max_chars}\")\n",
        "        else:\n",
        "            print(f\" No character truncation needed. Current chars: {current_chars}/{max_chars}\")\n",
        "\n",
        "    def get_formatted_history(self) -> List[Dict[str, str]]:\n",
        "        \"\"\"Get conversation history formatted for API calls.\"\"\"\n",
        "        return [{\"role\": msg[\"role\"], \"content\": msg[\"content\"]} for msg in self.history]\n",
        "\n",
        "    def display_history(self) -> None:\n",
        "        \"\"\"Display current conversation history.\"\"\"\n",
        "        print(\"\\n📋 Current Conversation History:\")\n",
        "        print(\"=\" * 50)\n",
        "\n",
        "        if not self.history:\n",
        "            print(\"No messages yet.\")\n",
        "            return\n",
        "\n",
        "        for i, msg in enumerate(self.history, 1):\n",
        "            print(f\"{i}. [{msg['role'].upper()}] {msg['content'][:100]}{'...' if len(msg['content']) > 100 else ''}\")\n",
        "\n",
        "        print(\"\\n Stats:\")\n",
        "        print(f\"   Total messages: {self.message_count}\")\n",
        "        print(f\"   Summaries created: {self.summary_count}\")\n",
        "        print(f\"   Total characters: {sum(len(msg['content']) for msg in self.history)}\")\n",
        "        print(\"=\" * 50)\n",
        "\n",
        "print(\"✅ ConversationManager class defined successfully!\")"
      ],
      "metadata": {
        "colab": {
          "base_uri": "https://localhost:8080/"
        },
        "id": "5UHiGSBOv60A",
        "outputId": "24170a10-3355-4e8b-d8e6-6b7f33098f3b"
      },
      "execution_count": 14,
      "outputs": [
        {
          "output_type": "stream",
          "name": "stdout",
          "text": [
            "✅ ConversationManager class defined successfully!\n"
          ]
        }
      ]
    },
    {
      "cell_type": "markdown",
      "source": [
        "### Task 1 Demonstration\n"
      ],
      "metadata": {
        "id": "MAI8i-diwXCY"
      }
    },
    {
      "cell_type": "code",
      "source": [
        "# Demo 1: Basic conversation management\n",
        "print(\"🎯 Demo 1: Basic Conversation Management\")\n",
        "print(\"=\" * 60)\n",
        "\n",
        "# Create conversation manager\n",
        "conv_mgr = ConversationManager(max_messages=8, summarize_every=3)\n",
        "\n",
        "# Add sample conversation turns\n",
        "sample_conversation = [\n",
        "    (\"user\", \"Hi, I need help with my order #12345\"),\n",
        "    (\"assistant\", \"I'd be happy to help! What seems to be the issue with your order?\"),\n",
        "    (\"user\", \"The package was delivered to the wrong address\"),\n",
        "    (\"assistant\", \"I apologize for the inconvenience. Let me check your order details.\"),\n",
        "    (\"user\", \"The tracking shows it was delivered to 123 Main St, but I live at 456 Oak Ave\"),\n",
        "    (\"assistant\", \"I see the issue. The shipping address was incorrectly entered. Let me arrange for redelivery.\"),\n",
        "    (\"user\", \"When can I expect the redelivery?\"),\n",
        "    (\"assistant\", \"I'll schedule it for tomorrow between 9 AM and 5 PM. You'll receive a confirmation email shortly.\")\n",
        "]\n",
        "\n",
        "# Add messages to conversation\n",
        "for role, content in sample_conversation:\n",
        "    conv_mgr.add_message(role, content)\n",
        "\n",
        "# Display history\n",
        "conv_mgr.display_history()\n"
      ],
      "metadata": {
        "colab": {
          "base_uri": "https://localhost:8080/"
        },
        "id": "Cr-CWb3BwIMn",
        "outputId": "cadbd749-e4b0-4cc0-fe08-5ed82f4a8fa0"
      },
      "execution_count": 15,
      "outputs": [
        {
          "output_type": "stream",
          "name": "stdout",
          "text": [
            "🎯 Demo 1: Basic Conversation Management\n",
            "============================================================\n",
            " Added user message: Hi, I need help with my order #12345...\n",
            " Total messages: 1\n",
            " Added assistant message: I'd be happy to help! What seems to be the issue w...\n",
            " Total messages: 2\n",
            " Added user message: The package was delivered to the wrong address...\n",
            " Total messages: 3\n",
            " Added assistant message: I apologize for the inconvenience. Let me check yo...\n",
            " Total messages: 4\n",
            " Added user message: The tracking shows it was delivered to 123 Main St...\n",
            " Total messages: 5\n",
            " Added assistant message: I see the issue. The shipping address was incorrec...\n",
            " Total messages: 6\n",
            " Added user message: When can I expect the redelivery?...\n",
            " Total messages: 7\n",
            " Added assistant message: I'll schedule it for tomorrow between 9 AM and 5 P...\n",
            " Total messages: 8\n",
            "\n",
            "📋 Current Conversation History:\n",
            "==================================================\n",
            "1. [USER] Hi, I need help with my order #12345\n",
            "2. [ASSISTANT] I'd be happy to help! What seems to be the issue with your order?\n",
            "3. [USER] The package was delivered to the wrong address\n",
            "4. [ASSISTANT] I apologize for the inconvenience. Let me check your order details.\n",
            "5. [USER] The tracking shows it was delivered to 123 Main St, but I live at 456 Oak Ave\n",
            "6. [ASSISTANT] I see the issue. The shipping address was incorrectly entered. Let me arrange for redelivery.\n",
            "7. [USER] When can I expect the redelivery?\n",
            "8. [ASSISTANT] I'll schedule it for tomorrow between 9 AM and 5 PM. You'll receive a confirmation email shortly.\n",
            "\n",
            " Stats:\n",
            "   Total messages: 8\n",
            "   Summaries created: 0\n",
            "   Total characters: 514\n",
            "==================================================\n"
          ]
        }
      ]
    },
    {
      "cell_type": "markdown",
      "source": [
        "## Task 2: JSON Schema Classification & Information Extraction\n",
        "\n",
        "### Features to implement:\n",
        "1. Create JSON schema for 5 personal information fields\n",
        "2. Use OpenAI function calling with Groq API\n",
        "3. Extract structured data from conversations\n",
        "4. Validate outputs against schema\n"
      ],
      "metadata": {
        "id": "JX4WZR_9wf9n"
      }
    },
    {
      "cell_type": "code",
      "source": [
        "# JSON Schema for personal information extraction\n",
        "classification_schema = {\n",
        "    \"type\": \"object\",\n",
        "    \"properties\": {\n",
        "        \"name\": {\n",
        "            \"type\": \"string\",\n",
        "            \"description\": \"Full name of the person\"\n",
        "        },\n",
        "        \"email\": {\n",
        "            \"type\": \"string\",\n",
        "            \"description\": \"Email address\"\n",
        "        },\n",
        "        \"phone\": {\n",
        "            \"type\": \"string\",\n",
        "            \"description\": \"Phone number\"\n",
        "        },\n",
        "        \"location\": {\n",
        "            \"type\": \"string\",\n",
        "            \"description\": \"City, state, or address\"\n",
        "        },\n",
        "        \"age\": {\n",
        "            \"type\": \"integer\",\n",
        "            \"description\": \"Age in years\"\n",
        "        }\n",
        "    },\n",
        "    \"required\": [\"name\", \"email\"]\n",
        "}\n",
        "\n",
        "print(\"✅ JSON Schema defined for personal information extraction:\")\n",
        "print(json.dumps(classification_schema, indent=2))"
      ],
      "metadata": {
        "colab": {
          "base_uri": "https://localhost:8080/"
        },
        "id": "USETPfiswcj2",
        "outputId": "b606a9a5-a026-40e8-8b55-b3a356c1b91b"
      },
      "execution_count": 7,
      "outputs": [
        {
          "output_type": "stream",
          "name": "stdout",
          "text": [
            "✅ JSON Schema defined for personal information extraction:\n",
            "{\n",
            "  \"type\": \"object\",\n",
            "  \"properties\": {\n",
            "    \"name\": {\n",
            "      \"type\": \"string\",\n",
            "      \"description\": \"Full name of the person\"\n",
            "    },\n",
            "    \"email\": {\n",
            "      \"type\": \"string\",\n",
            "      \"description\": \"Email address\"\n",
            "    },\n",
            "    \"phone\": {\n",
            "      \"type\": \"string\",\n",
            "      \"description\": \"Phone number\"\n",
            "    },\n",
            "    \"location\": {\n",
            "      \"type\": \"string\",\n",
            "      \"description\": \"City, state, or address\"\n",
            "    },\n",
            "    \"age\": {\n",
            "      \"type\": \"integer\",\n",
            "      \"description\": \"Age in years\"\n",
            "    }\n",
            "  },\n",
            "  \"required\": [\n",
            "    \"name\",\n",
            "    \"email\"\n",
            "  ]\n",
            "}\n"
          ]
        }
      ]
    },
    {
      "cell_type": "code",
      "source": [
        "def extract_personal_information(chat_message: str) -> Dict[str, Any]:\n",
        "    \"\"\"\n",
        "    Extract personal information from a chat message using Groq API function calling.\n",
        "    \"\"\"\n",
        "    try:\n",
        "        response = openai.ChatCompletion.create(\n",
        "            model=\"llama-3.3-70b-versatile\",  # Using model that supports function calling\n",
        "            messages=[{\n",
        "                \"role\": \"user\",\n",
        "                \"content\": f\"Extract personal information from this message: {chat_message}\"\n",
        "            }],\n",
        "            functions=[{\n",
        "                \"name\": \"extract_personal_info\",\n",
        "                \"description\": \"Extract personal information from conversation\",\n",
        "                \"parameters\": classification_schema\n",
        "            }],\n",
        "            function_call={\"name\": \"extract_personal_info\"},\n",
        "            temperature=0.1  # Low temperature for consistent extraction\n",
        "        )\n",
        "\n",
        "        # Parse the function call result\n",
        "        function_call = response.choices[0].message.function_call\n",
        "        if function_call and function_call.name == \"extract_personal_info\":\n",
        "            extracted_data = json.loads(function_call.arguments)\n",
        "            return extracted_data\n",
        "        else:\n",
        "            return {\"error\": \"No function call returned\"}\n",
        "\n",
        "    except Exception as e:\n",
        "        return {\"error\": f\"Extraction failed: {str(e)}\"}\n",
        "\n",
        "def validate_extraction(extracted_data: Dict[str, Any]) -> Dict[str, Any]:\n",
        "    \"\"\"\n",
        "    Validate extracted data against the schema.\n",
        "    \"\"\"\n",
        "    validation_result = {\n",
        "        \"is_valid\": True,\n",
        "        \"errors\": [],\n",
        "        \"warnings\": []\n",
        "    }\n",
        "\n",
        "    # Check required fields\n",
        "    required_fields = classification_schema[\"required\"]\n",
        "    for field in required_fields:\n",
        "        if field not in extracted_data or not extracted_data[field]:\n",
        "            validation_result[\"errors\"].append(f\"Missing required field: {field}\")\n",
        "            validation_result[\"is_valid\"] = False\n",
        "\n",
        "    # Check field types\n",
        "    properties = classification_schema[\"properties\"]\n",
        "    for field, value in extracted_data.items():\n",
        "        if field in properties:\n",
        "            expected_type = properties[field][\"type\"]\n",
        "            actual_type = type(value).__name__\n",
        "\n",
        "            if expected_type == \"integer\" and actual_type != \"int\":\n",
        "                validation_result[\"errors\"].append(f\"Field '{field}' should be integer, got {actual_type}\")\n",
        "                validation_result[\"is_valid\"] = False\n",
        "            elif expected_type == \"string\" and actual_type != \"str\":\n",
        "                validation_result[\"errors\"].append(f\"Field '{field}' should be string, got {actual_type}\")\n",
        "                validation_result[\"is_valid\"] = False\n",
        "\n",
        "    # Check email format (basic validation)\n",
        "    if \"email\" in extracted_data and \"@\" not in str(extracted_data[\"email\"]):\n",
        "        validation_result[\"warnings\"].append(\"Email format may be invalid\")\n",
        "\n",
        "    return validation_result\n",
        "\n",
        "print(\" Information extraction functions defined successfully!\")"
      ],
      "metadata": {
        "colab": {
          "base_uri": "https://localhost:8080/"
        },
        "id": "8VZKRdEiwlpm",
        "outputId": "2a7f9c73-91c4-4766-a3ac-ee541b7da320"
      },
      "execution_count": 8,
      "outputs": [
        {
          "output_type": "stream",
          "name": "stdout",
          "text": [
            " Information extraction functions defined successfully!\n"
          ]
        }
      ]
    },
    {
      "cell_type": "markdown",
      "source": [
        "### Task 2 Demonstration with Sample Chats\n"
      ],
      "metadata": {
        "id": "_CQlkmdrwuhm"
      }
    },
    {
      "cell_type": "code",
      "source": [
        "# Sample Chat 1: Complete information\n",
        "print(\" Demo 1: Sample Chat with Complete Information\")\n",
        "print(\"=\" * 60)\n",
        "\n",
        "sample_chat_1 = \"\"\"\n",
        "Hi, my name is John Smith. I'm 25 years old and live in New York City.\n",
        "My email address is john.smith@example.com and you can reach me at 555-123-4567.\n",
        "I'm interested in learning more about your services.\n",
        "\"\"\"\n",
        "\n",
        "print(f\" Sample Chat 1:\\n{sample_chat_1.strip()}\")\n",
        "\n",
        "# Extract information\n",
        "print(\"\\n Extracting information...\")\n",
        "extracted_1 = extract_personal_information(sample_chat_1)\n",
        "\n",
        "print(f\"\\n Extracted Data:\")\n",
        "print(json.dumps(extracted_1, indent=2))\n",
        "\n",
        "# Validate extraction\n",
        "print(\"\\n Validation Results:\")\n",
        "validation_1 = validate_extraction(extracted_1)\n",
        "print(json.dumps(validation_1, indent=2))\n"
      ],
      "metadata": {
        "colab": {
          "base_uri": "https://localhost:8080/"
        },
        "id": "CZhM5c1Rwrt2",
        "outputId": "7787a3fe-2d53-4c71-a331-556404298dfd"
      },
      "execution_count": 9,
      "outputs": [
        {
          "output_type": "stream",
          "name": "stdout",
          "text": [
            " Demo 1: Sample Chat with Complete Information\n",
            "============================================================\n",
            " Sample Chat 1:\n",
            "Hi, my name is John Smith. I'm 25 years old and live in New York City. \n",
            "My email address is john.smith@example.com and you can reach me at 555-123-4567. \n",
            "I'm interested in learning more about your services.\n",
            "\n",
            " Extracting information...\n",
            "\n",
            " Extracted Data:\n",
            "{\n",
            "  \"age\": 25,\n",
            "  \"email\": \"john.smith@example.com\",\n",
            "  \"location\": \"New York City\",\n",
            "  \"name\": \"John Smith\",\n",
            "  \"phone\": \"555-123-4567\"\n",
            "}\n",
            "\n",
            " Validation Results:\n",
            "{\n",
            "  \"is_valid\": true,\n",
            "  \"errors\": [],\n",
            "  \"warnings\": []\n",
            "}\n"
          ]
        }
      ]
    },
    {
      "cell_type": "code",
      "source": [
        "# Sample Chat 2: Partial information\n",
        "print(\"\\n Demo 2: Sample Chat with Partial Information\")\n",
        "print(\"=\" * 60)\n",
        "\n",
        "sample_chat_2 = \"\"\"\n",
        "Hello, I'm Sarah Johnson from California. My phone number is 555-987-6543.\n",
        "I'm 30 years old and my email is sarah.johnson@company.com.\n",
        "Can you help me with my account?\n",
        "\"\"\"\n",
        "\n",
        "print(f\" Sample Chat 2:\\n{sample_chat_2.strip()}\")\n",
        "\n",
        "# Extract information\n",
        "print(\"\\n Extracting information...\")\n",
        "extracted_2 = extract_personal_information(sample_chat_2)\n",
        "\n",
        "print(f\"\\n Extracted Data:\")\n",
        "print(json.dumps(extracted_2, indent=2))\n",
        "\n",
        "# Validate extraction\n",
        "print(\"\\n Validation Results:\")\n",
        "validation_2 = validate_extraction(extracted_2)\n",
        "print(json.dumps(validation_2, indent=2))\n"
      ],
      "metadata": {
        "colab": {
          "base_uri": "https://localhost:8080/"
        },
        "id": "mqnI97YTw0Hn",
        "outputId": "172a8e24-8d16-4e4d-f33b-33e9b7692563"
      },
      "execution_count": 16,
      "outputs": [
        {
          "output_type": "stream",
          "name": "stdout",
          "text": [
            "\n",
            " Demo 2: Sample Chat with Partial Information\n",
            "============================================================\n",
            " Sample Chat 2:\n",
            "Hello, I'm Sarah Johnson from California. My phone number is 555-987-6543. \n",
            "I'm 30 years old and my email is sarah.johnson@company.com. \n",
            "Can you help me with my account?\n",
            "\n",
            " Extracting information...\n",
            "\n",
            " Extracted Data:\n",
            "{\n",
            "  \"age\": 30,\n",
            "  \"email\": \"sarah.johnson@company.com\",\n",
            "  \"location\": \"California\",\n",
            "  \"name\": \"Sarah Johnson\",\n",
            "  \"phone\": \"555-987-6543\"\n",
            "}\n",
            "\n",
            " Validation Results:\n",
            "{\n",
            "  \"is_valid\": true,\n",
            "  \"errors\": [],\n",
            "  \"warnings\": []\n",
            "}\n"
          ]
        }
      ]
    },
    {
      "cell_type": "code",
      "source": [
        "# Sample Chat 3: Minimal information\n",
        "print(\"\\n Demo 3: Sample Chat with Minimal Information\")\n",
        "print(\"=\" * 60)\n",
        "\n",
        "sample_chat_3 = \"\"\"\n",
        "Hi there! I'm Mike, 28 years old, and I live in Texas.\n",
        "My contact email is mike.wilson@testmail.com and my phone is 555-456-7890.\n",
        "I need help with my subscription.\n",
        "\"\"\"\n",
        "\n",
        "print(f\" Sample Chat 3:\\n{sample_chat_3.strip()}\")\n",
        "\n",
        "# Extract information\n",
        "print(\"\\n Extracting information...\")\n",
        "extracted_3 = extract_personal_information(sample_chat_3)\n",
        "\n",
        "print(f\"\\n Extracted Data:\")\n",
        "print(json.dumps(extracted_3, indent=2))\n",
        "\n",
        "# Validate extraction\n",
        "print(\"\\n Validation Results:\")\n",
        "validation_3 = validate_extraction(extracted_3)\n",
        "print(json.dumps(validation_3, indent=2))"
      ],
      "metadata": {
        "colab": {
          "base_uri": "https://localhost:8080/"
        },
        "id": "6905_Ha9w5CG",
        "outputId": "462b061f-209f-4f84-fde6-6b1abec72bf1"
      },
      "execution_count": 11,
      "outputs": [
        {
          "output_type": "stream",
          "name": "stdout",
          "text": [
            "\n",
            " Demo 3: Sample Chat with Minimal Information\n",
            "============================================================\n",
            " Sample Chat 3:\n",
            "Hi there! I'm Mike, 28 years old, and I live in Texas. \n",
            "My contact email is mike.wilson@testmail.com and my phone is 555-456-7890. \n",
            "I need help with my subscription.\n",
            "\n",
            " Extracting information...\n",
            "\n",
            " Extracted Data:\n",
            "{\n",
            "  \"age\": 28,\n",
            "  \"email\": \"mike.wilson@testmail.com\",\n",
            "  \"location\": \"Texas\",\n",
            "  \"name\": \"Mike\",\n",
            "  \"phone\": \"555-456-7890\"\n",
            "}\n",
            "\n",
            " Validation Results:\n",
            "{\n",
            "  \"is_valid\": true,\n",
            "  \"errors\": [],\n",
            "  \"warnings\": []\n",
            "}\n"
          ]
        }
      ]
    },
    {
      "cell_type": "code",
      "source": [
        "# Summary and Comparison of All Extractions\n",
        "print(\"\\n Summary: All Extraction Results Comparison\")\n",
        "print(\"=\" * 70)\n",
        "\n",
        "all_extractions = [\n",
        "    (\"Sample Chat 1\", extracted_1, validation_1),\n",
        "    (\"Sample Chat 2\", extracted_2, validation_2),\n",
        "    (\"Sample Chat 3\", extracted_3, validation_3)\n",
        "]\n",
        "\n",
        "print(\"\\n Extraction Results Summary:\")\n",
        "print(\"-\" * 70)\n",
        "\n",
        "for chat_name, extracted, validation in all_extractions:\n",
        "    print(f\"\\n{chat_name}:\")\n",
        "    print(f\"   Valid: {validation['is_valid']}\")\n",
        "\n",
        "    if validation['errors']:\n",
        "        print(f\"   Errors: {', '.join(validation['errors'])}\")\n",
        "\n",
        "    if validation['warnings']:\n",
        "        print(f\"    Warnings: {', '.join(validation['warnings'])}\")\n",
        "\n",
        "    # Show extracted fields\n",
        "    fields_found = [f\"{k}: {v}\" for k, v in extracted.items() if k != 'error' and v]\n",
        "    print(f\"   Fields: {', '.join(fields_found)}\")\n",
        "\n",
        "print(\"\\n\" + \"=\" * 70)\n",
        "print(\" All 3 sample chats processed and validated against JSON schema\")"
      ],
      "metadata": {
        "colab": {
          "base_uri": "https://localhost:8080/"
        },
        "id": "Tmm4gQ4Aw--l",
        "outputId": "5038d9ae-9f2d-43ea-ce91-be4ae1ae7c70"
      },
      "execution_count": 12,
      "outputs": [
        {
          "output_type": "stream",
          "name": "stdout",
          "text": [
            "\n",
            " Summary: All Extraction Results Comparison\n",
            "======================================================================\n",
            "\n",
            " Extraction Results Summary:\n",
            "----------------------------------------------------------------------\n",
            "\n",
            "Sample Chat 1:\n",
            "   Valid: True\n",
            "   Fields: age: 25, email: john.smith@example.com, location: New York City, name: John Smith, phone: 555-123-4567\n",
            "\n",
            "Sample Chat 2:\n",
            "   Valid: True\n",
            "   Fields: age: 30, email: sarah.johnson@company.com, location: California, name: Sarah Johnson, phone: 555-987-6543\n",
            "\n",
            "Sample Chat 3:\n",
            "   Valid: True\n",
            "   Fields: age: 28, email: mike.wilson@testmail.com, location: Texas, name: Mike, phone: 555-456-7890\n",
            "\n",
            "======================================================================\n",
            " All 3 sample chats processed and validated against JSON schema\n"
          ]
        }
      ]
    },
    {
      "cell_type": "code",
      "source": [],
      "metadata": {
        "id": "p3nAw08fxG4Q"
      },
      "execution_count": null,
      "outputs": []
    }
  ]
}
